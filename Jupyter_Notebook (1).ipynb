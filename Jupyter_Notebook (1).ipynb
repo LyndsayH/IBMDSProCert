{
 "cells": [
  {
   "cell_type": "markdown",
   "metadata": {},
   "source": [
    "<center>\n",
    "    <img src=\"https://cf-courses-data.s3.us.cloud-object-storage.appdomain.cloud/IBMDeveloperSkillsNetwork-DS0105EN-SkillsNetwork/labs/Module2/images/SN_web_lightmode.png\" width=\"300\" alt=\"cognitiveclass.ai logo\"  />\n",
    "</center>\n"
   ]
  },
  {
   "cell_type": "markdown",
   "metadata": {},
   "source": [
    "#### Add your code below following the instructions given in the course\n"
   ]
  },
  {
   "cell_type": "markdown",
   "metadata": {},
   "source": [
    "# My Jupyter Notebook on IBM Watson Studio"
   ]
  },
  {
   "cell_type": "markdown",
   "metadata": {},
   "source": [
    "<b>Lyndsay Hope</b>\n",
    "<br>I am currently Head of Computing at a secondary school, teaching students about Computer Science and preparing them to enter careers in CS.</br>\n"
   ]
  },
  {
   "cell_type": "markdown",
   "metadata": {},
   "source": [
    "_I am interested in data science because I love the cunning, acute insights drawn from huge volumes of data! I enjoy presenting them as a story and in visuals that give you and your audience that \"Aahhh!\" moment. \n",
    "I am keen too to see positive change brought through finding answers in the data: for example a key to identifying commonality in children prone to mental health issues,to help staff support them before life goes south. \n",
    "AND I spend a lot of time in coaching teenagers to get into universities to do great CS degrees including data science: now it's my turn._\n"
   ]
  },
  {
   "cell_type": "markdown",
   "metadata": {},
   "source": [
    "### The code below takes an integer as input, uses MOD to evaluate its remainder, then it outputs whether the number was even or odd.\n"
   ]
  },
  {
   "cell_type": "code",
   "execution_count": 2,
   "metadata": {},
   "outputs": [
    {
     "name": "stdout",
     "output_type": "stream",
     "text": [
      "The number is odd. \n"
     ]
    }
   ],
   "source": [
    "num1 = 15\n",
    "if num1 % 2 == 0:\n",
    "    print(\"The number is even. \")\n",
    "else:\n",
    "    print(\"The number is odd. \")\n",
    "    "
   ]
  },
  {
   "cell_type": "markdown",
   "metadata": {},
   "source": [
    "<p>\n",
    "<hr style=\"border:2px solid blue\">\n",
    "\n",
    "*  Python\n",
    "*  R\n",
    "*  C#\n",
    "\n",
    "1.  Mojito\n",
    "2.  Daiquiri\n",
    "3.  Dark and Stormy\n",
    "<p><p>\n",
    "<blockquote> <H2> From <b>Sometimes</b> by Sheenagh Pugh </H2>\n",
    "Some men become what they were born for.<br>Sometimes our best efforts do not go<br>amiss; sometimes we do as we meant to.<br>The sun will sometimes melt a field of sorrow<br>that seemed hard frozen: may it happen for you.</blockquote>\n",
    "\n",
    "<img src=\"https://imgs.xkcd.com/comics/tasks_2x.png\" alt=\"XKCD Cartoon vis CS projects and AI\" title=\"XKCD on AI\" />"
   ]
  }
 ],
 "metadata": {
  "kernelspec": {
   "display_name": "Python",
   "language": "python",
   "name": "conda-env-python-py"
  },
  "language_info": {
   "codemirror_mode": {
    "name": "ipython",
    "version": 3
   },
   "file_extension": ".py",
   "mimetype": "text/x-python",
   "name": "python",
   "nbconvert_exporter": "python",
   "pygments_lexer": "ipython3",
   "version": "3.7.12"
  }
 },
 "nbformat": 4,
 "nbformat_minor": 4
}
